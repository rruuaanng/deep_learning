{
 "cells": [
  {
   "cell_type": "code",
   "execution_count": 54,
   "metadata": {},
   "outputs": [
    {
     "data": {
      "text/plain": [
       "array([[0.        , 0.97688602, 0.99954891],\n",
       "       [0.        , 0.        , 0.        ],\n",
       "       [0.        , 0.22397951, 1.        ]])"
      ]
     },
     "execution_count": 54,
     "metadata": {},
     "output_type": "execute_result"
    }
   ],
   "source": [
    "import numpy as np\n",
    "\n",
    "\"\"\"\n",
    "丢弃正则化\n",
    "按一定百分比丢弃部分神经元输出结果\n",
    "用于防止过拟合\n",
    "\"\"\"\n",
    "\n",
    "# 关闭科学计数\n",
    "np.set_printoptions(suppress=True)\n",
    "\n",
    "# 定义数据\n",
    "x = [[2,4],[6,5],[8,6]]\n",
    "y = [1,1,0]\n",
    "w1 = np.random.randn(2,3)\n",
    "b = np.zeros(1)\n",
    "sigmoid = lambda x: 1 / (1 + np.exp(-x))\n",
    "\n",
    "# 神经元\n",
    "z = x @ w1 + b\n",
    "a1 = sigmoid(z)\n",
    "\n",
    "# Dropout\n",
    "# 失效概率\n",
    "p = 0.4\n",
    "rd = np.random.rand(*a1.shape)\n",
    "msk = rd < p\n",
    "np.where(msk,0,a1)"
   ]
  }
 ],
 "metadata": {
  "kernelspec": {
   "display_name": "base",
   "language": "python",
   "name": "python3"
  },
  "language_info": {
   "codemirror_mode": {
    "name": "ipython",
    "version": 3
   },
   "file_extension": ".py",
   "mimetype": "text/x-python",
   "name": "python",
   "nbconvert_exporter": "python",
   "pygments_lexer": "ipython3",
   "version": "3.11.5"
  },
  "orig_nbformat": 4
 },
 "nbformat": 4,
 "nbformat_minor": 2
}
