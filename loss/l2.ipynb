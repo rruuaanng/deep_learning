{
 "cells": [
  {
   "cell_type": "code",
   "execution_count": 12,
   "metadata": {},
   "outputs": [
    {
     "data": {
      "text/plain": [
       "0.331289824132671"
      ]
     },
     "execution_count": 12,
     "metadata": {},
     "output_type": "execute_result"
    }
   ],
   "source": [
    "import numpy as np\n",
    "\n",
    "# 权重\n",
    "x = [[3,5],[2,2],[5,7]]\n",
    "w1 = np.random.randn(2,1)\n",
    "b = np.zeros(1)\n",
    "y = [1,1,0]\n",
    "lambd = 0.3\n",
    "\n",
    "# 回归\n",
    "z = x @ w1 + b\n",
    "loss = np.mean((y - z)**2)\n",
    "\n",
    "# L2正则化\n",
    "reg = 0.5 * lambd * np.sum(np.power(w1,2))\n",
    "\n",
    "# 反向传播权重调整\n",
    "..."
   ]
  },
  {
   "cell_type": "markdown",
   "metadata": {},
   "source": [
    "$\n",
    "\\frac{1}{2}\\lambda\\sum_{i=1}^{n} w_i^2\n",
    "$"
   ]
  }
 ],
 "metadata": {
  "kernelspec": {
   "display_name": "base",
   "language": "python",
   "name": "python3"
  },
  "language_info": {
   "codemirror_mode": {
    "name": "ipython",
    "version": 3
   },
   "file_extension": ".py",
   "mimetype": "text/x-python",
   "name": "python",
   "nbconvert_exporter": "python",
   "pygments_lexer": "ipython3",
   "version": "3.11.5"
  },
  "orig_nbformat": 4
 },
 "nbformat": 4,
 "nbformat_minor": 2
}
