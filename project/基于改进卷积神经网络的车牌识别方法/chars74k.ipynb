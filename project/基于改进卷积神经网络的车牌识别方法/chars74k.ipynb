{
 "cells": [
  {
   "cell_type": "code",
   "execution_count": 164,
   "metadata": {},
   "outputs": [],
   "source": [
    "import tensorflow as tf\n",
    "import matplotlib.pyplot as plt\n",
    "import numpy as np\n",
    "from PIL import Image\n",
    "\n",
    "\n",
    "\"\"\"\n",
    "论文复现\n",
    "标题：基于改进卷积神经网络的车牌识别方法\n",
    "\"\"\"\n",
    "\n",
    "# 关闭科学计数\n",
    "np.set_printoptions(suppress=True)\n",
    "\n",
    "# 训练集和测试集\n",
    "# 58个类别 \n",
    "# 55个图片\n",
    "# 分辨率32*32\n",
    "train = []\n",
    "# 58个类别\n",
    "label = []\n",
    "\n",
    "# 初始化训练集\n",
    "for i in range(34):\n",
    "    data = np.load(f'E:\\dataset\\chars74k-np\\{i}.npy')\n",
    "    train.append(data)\n",
    "train = np.array(train).astype(int)\n",
    "\n",
    "# 初始化标签\n",
    "for i in range(34):\n",
    "    data = np.load(f'E:\\dataset\\chars74k-np\\{i}_labels.npy')\n",
    "    data = np.full_like(data,i)\n",
    "    label.append(data)\n",
    "label = np.array(label).astype(int)\n",
    "\n",
    "# 测试集\n",
    "test = train[28:,:]\n",
    "test_label = label[28:,]"
   ]
  },
  {
   "cell_type": "code",
   "execution_count": 165,
   "metadata": {},
   "outputs": [
    {
     "data": {
      "image/png": "[encoded data removed]",
      "text/plain": [
       "<Figure size 640x480 with 6 Axes>"
      ]
     },
     "metadata": {},
     "output_type": "display_data"
    }
   ],
   "source": [
    "# 验证测试数据数据\n",
    "for i in range(1, 7):\n",
    "    plt.subplot(2,3,i)\n",
    "    plt.imshow(test[i - 1][0])\n",
    "    plt.title(f'{test_label[i - 1][0]}')"
   ]
  },
  {
   "cell_type": "code",
   "execution_count": 166,
   "metadata": {},
   "outputs": [
    {
     "name": "stdout",
     "output_type": "stream",
     "text": [
      "train: (1870, 32, 32) (1870,)\n",
      "test: (330, 32, 32) (330,)\n"
     ]
    }
   ],
   "source": [
    "train = train.reshape(-1,32,32)\n",
    "test = test.reshape(-1,32,32)\n",
    "label = label.reshape(-1)\n",
    "test_label = test_label.reshape(-1)\n",
    "print('train:',train.shape,label.shape)\n",
    "print('test:',test.shape,test_label.shape)"
   ]
  },
  {
   "cell_type": "code",
   "execution_count": 167,
   "metadata": {},
   "outputs": [
    {
     "name": "stdout",
     "output_type": "stream",
     "text": [
      "Epoch 1/30\n",
      "59/59 [==============================] - 1s 10ms/step - loss: 4.8625 - accuracy: 0.0781\n",
      "Epoch 2/30\n",
      "59/59 [==============================] - 1s 11ms/step - loss: 2.8118 - accuracy: 0.2187\n",
      "Epoch 3/30\n",
      "59/59 [==============================] - 1s 10ms/step - loss: 2.3158 - accuracy: 0.3524\n",
      "Epoch 4/30\n",
      "59/59 [==============================] - 1s 10ms/step - loss: 1.9522 - accuracy: 0.4283\n",
      "Epoch 5/30\n",
      "59/59 [==============================] - 1s 11ms/step - loss: 1.6928 - accuracy: 0.5021\n",
      "Epoch 6/30\n",
      "59/59 [==============================] - 1s 12ms/step - loss: 1.5209 - accuracy: 0.5433\n",
      "Epoch 7/30\n",
      "59/59 [==============================] - 1s 12ms/step - loss: 1.2937 - accuracy: 0.6118\n",
      "Epoch 8/30\n",
      "59/59 [==============================] - 1s 10ms/step - loss: 1.2205 - accuracy: 0.6299\n",
      "Epoch 9/30\n",
      "59/59 [==============================] - 1s 25ms/step - loss: 1.1105 - accuracy: 0.6503\n",
      "Epoch 10/30\n",
      "59/59 [==============================] - 1s 11ms/step - loss: 0.9624 - accuracy: 0.6898\n",
      "Epoch 11/30\n",
      "59/59 [==============================] - 1s 11ms/step - loss: 0.9178 - accuracy: 0.6989\n",
      "Epoch 12/30\n",
      "59/59 [==============================] - 1s 10ms/step - loss: 0.7543 - accuracy: 0.7529\n",
      "Epoch 13/30\n",
      "59/59 [==============================] - 1s 12ms/step - loss: 0.7227 - accuracy: 0.7663\n",
      "Epoch 14/30\n",
      "59/59 [==============================] - 1s 11ms/step - loss: 0.6650 - accuracy: 0.7845\n",
      "Epoch 15/30\n",
      "59/59 [==============================] - 1s 10ms/step - loss: 0.6390 - accuracy: 0.7893\n",
      "Epoch 16/30\n",
      "59/59 [==============================] - 1s 11ms/step - loss: 0.5815 - accuracy: 0.8027\n",
      "Epoch 17/30\n",
      "59/59 [==============================] - 1s 10ms/step - loss: 0.5173 - accuracy: 0.8230\n",
      "Epoch 18/30\n",
      "59/59 [==============================] - 1s 10ms/step - loss: 0.4823 - accuracy: 0.8380\n",
      "Epoch 19/30\n",
      "59/59 [==============================] - 1s 11ms/step - loss: 0.5203 - accuracy: 0.8299\n",
      "Epoch 20/30\n",
      "59/59 [==============================] - 1s 10ms/step - loss: 0.4068 - accuracy: 0.8647\n",
      "Epoch 21/30\n",
      "59/59 [==============================] - 1s 10ms/step - loss: 0.3820 - accuracy: 0.8679\n",
      "Epoch 22/30\n",
      "59/59 [==============================] - 1s 11ms/step - loss: 0.3310 - accuracy: 0.8840\n",
      "Epoch 23/30\n",
      "59/59 [==============================] - 1s 10ms/step - loss: 0.4396 - accuracy: 0.8497\n",
      "Epoch 24/30\n",
      "59/59 [==============================] - 1s 10ms/step - loss: 0.3713 - accuracy: 0.8695\n",
      "Epoch 25/30\n",
      "59/59 [==============================] - 1s 11ms/step - loss: 0.4468 - accuracy: 0.8540\n",
      "Epoch 26/30\n",
      "59/59 [==============================] - 1s 10ms/step - loss: 0.3323 - accuracy: 0.8882\n",
      "Epoch 27/30\n",
      "59/59 [==============================] - 1s 11ms/step - loss: 0.2821 - accuracy: 0.9134\n",
      "Epoch 28/30\n",
      "59/59 [==============================] - 1s 12ms/step - loss: 0.2934 - accuracy: 0.9064\n",
      "Epoch 29/30\n",
      "59/59 [==============================] - 1s 10ms/step - loss: 0.3610 - accuracy: 0.8765\n",
      "Epoch 30/30\n",
      "59/59 [==============================] - 1s 10ms/step - loss: 0.3406 - accuracy: 0.8930\n"
     ]
    },
    {
     "data": {
      "text/plain": [
       "<keras.src.callbacks.History at 0x1802c7d2990>"
      ]
     },
     "execution_count": 167,
     "metadata": {},
     "output_type": "execute_result"
    }
   ],
   "source": [
    "# 定义模型\n",
    "model = tf.keras.Sequential([\n",
    "    tf.keras.layers.Input(shape=(32, 32, 1)),\n",
    "    tf.keras.layers.Conv2D(6, (5, 5), activation='relu'),\n",
    "    tf.keras.layers.MaxPool2D(pool_size=(2, 2)),\n",
    "    tf.keras.layers.Conv2D(96, (5,5), activation='relu'),\n",
    "    tf.keras.layers.MaxPool2D(pool_size=(2, 2)),\n",
    "    tf.keras.layers.Conv2D(120, (5,5), activation='relu'),\n",
    "    tf.keras.layers.Flatten(),\n",
    "    tf.keras.layers.Dense(84, activation='relu'),\n",
    "    tf.keras.layers.Dense(34, activation='softmax')\n",
    "])\n",
    "\n",
    "\n",
    "model.compile(optimizer=tf.optimizers.Adam(0.003),\n",
    "              loss='sparse_categorical_crossentropy',\n",
    "              metrics=['accuracy'])\n",
    "\n",
    "# 训练模型\n",
    "model.fit(train, label, epochs=30)"
   ]
  },
  {
   "cell_type": "code",
   "execution_count": 168,
   "metadata": {},
   "outputs": [
    {
     "name": "stdout",
     "output_type": "stream",
     "text": [
      "1/1 [==============================] - 0s 60ms/step\n"
     ]
    },
    {
     "data": {
      "text/plain": [
       "array([[0.00000484, 0.00000031, 0.00001715, 0.0000189 , 0.00001664,\n",
       "        0.00000442, 0.00046496, 0.00004713, 0.00027323, 0.00000006,\n",
       "        0.00000134, 0.27122635, 0.00145913, 0.00009182, 0.27116337,\n",
       "        0.00251399, 0.00003358, 0.00012955, 0.00000603, 0.00000187,\n",
       "        0.00000101, 0.00000008, 0.00006832, 0.12210186, 0.00000064,\n",
       "        0.00032968, 0.00000003, 0.        , 0.00148425, 0.00034315,\n",
       "        0.00005027, 0.3281454 , 0.00000038, 0.0000002 ]], dtype=float32)"
      ]
     },
     "execution_count": 168,
     "metadata": {},
     "output_type": "execute_result"
    }
   ],
   "source": [
    "# 评估模型\n",
    "test = Image.open('./test.png')\n",
    "test = np.array(test.resize((32,32)).convert('L'))\n",
    "z = model.predict(np.array([test]))  # 使用数组进行预测\n"
   ]
  }
 ],
 "metadata": {
  "kernelspec": {
   "display_name": "base",
   "language": "python",
   "name": "python3"
  },
  "language_info": {
   "codemirror_mode": {
    "name": "ipython",
    "version": 3
   },
   "file_extension": ".py",
   "mimetype": "text/x-python",
   "name": "python",
   "nbconvert_exporter": "python",
   "pygments_lexer": "ipython3",
   "version": "3.11.5"
  },
  "orig_nbformat": 4
 },
 "nbformat": 4,
 "nbformat_minor": 2
}
