{
 "cells": [
  {
   "cell_type": "code",
   "execution_count": 317,
   "metadata": {},
   "outputs": [],
   "source": [
    "import tensorflow as tf\n",
    "import numpy as np\n",
    "import matplotlib.pyplot as plt\n",
    "from tensorflow.keras.metrics import Accuracy\n",
    "\n",
    "\n",
    "# 整理数据\n",
    "# 将三个文件的数据整合到data中\n",
    "\n",
    "# 导入三个数据集\n",
    "happy = np.load(f'./process/happy.npy')[:8200]\n",
    "normal = np.load(f'./process/normal.npy')[:8200]\n",
    "sad = np.load(f'./process/sad.npy')[:8200]"
   ]
  },
  {
   "cell_type": "code",
   "execution_count": 318,
   "metadata": {},
   "outputs": [],
   "source": [
    "# 预处理\n",
    "happy = happy.reshape(-1, 1, 10)\n",
    "normal = normal.reshape(-1, 1, 10)\n",
    "sad = sad.reshape(-1, 1, 10)\n",
    "\n",
    "happy_label = np.full((happy.shape[0],1),0)\n",
    "normal_label = np.full((normal.shape[0],1),1)\n",
    "sad_label = np.full((sad.shape[0],1),2)"
   ]
  },
  {
   "cell_type": "code",
   "execution_count": 321,
   "metadata": {},
   "outputs": [],
   "source": [
    "# 预处理\n",
    "happy = happy.reshape(-1, 82)\n",
    "normal = normal.reshape(-1, 82)\n",
    "sad = sad.reshape(-1, 82)\n",
    "\n",
    "happy_label = np.full((happy.shape[0],1),0)\n",
    "normal_label = np.full((normal.shape[0],1),1)\n",
    "sad_label = np.full((sad.shape[0],1),2)"
   ]
  },
  {
   "cell_type": "code",
   "execution_count": 322,
   "metadata": {},
   "outputs": [
    {
     "name": "stdout",
     "output_type": "stream",
     "text": [
      "(100, 82) (100, 82) (100, 82)\n",
      "(100, 1) (100, 1) (100, 1)\n",
      "训练集： (3, 100, 82) (3, 100, 1)\n",
      "测试集： (3, 100, 82) (3, 100, 1)\n"
     ]
    }
   ],
   "source": [
    "# 检查数据维度\n",
    "print(happy.shape, normal.shape, sad.shape)\n",
    "print(happy_label.shape,normal_label.shape,sad_label.shape)\n",
    "\n",
    "# 训练集和测试集\n",
    "# label: happy, normal, sad\n",
    "train = np.stack([happy, normal, sad])\n",
    "mean_train = np.mean(train, axis=1, keepdims=True)\n",
    "label = np.stack([happy_label,normal_label,sad_label])\n",
    "print('训练集：',train.shape,label.shape)\n",
    "test = np.repeat(mean_train, train.shape[1], axis=1)\n",
    "test_label = label[:,:,:]\n",
    "# 使用均值填充测试集\n",
    "print('测试集：',test.shape,test_label.shape)"
   ]
  },
  {
   "cell_type": "code",
   "execution_count": 407,
   "metadata": {},
   "outputs": [
    {
     "name": "stdout",
     "output_type": "stream",
     "text": [
      "Model: \"model_195\"\n",
      "_________________________________________________________________\n",
      " Layer (type)                Output Shape              Param #   \n",
      "=================================================================\n",
      " input_249 (InputLayer)      [(None, 100, 82)]         0         \n",
      "                                                                 \n",
      " conv1d_682 (Conv1D)         (None, 94, 32)            18400     \n",
      "                                                                 \n",
      " dropout_582 (Dropout)       (None, 94, 32)            0         \n",
      "                                                                 \n",
      " conv1d_683 (Conv1D)         (None, 90, 64)            10304     \n",
      "                                                                 \n",
      " dropout_583 (Dropout)       (None, 90, 64)            0         \n",
      "                                                                 \n",
      " conv1d_684 (Conv1D)         (None, 86, 64)            20544     \n",
      "                                                                 \n",
      " max_pooling1d_104 (MaxPool  (None, 43, 64)            0         \n",
      " ing1D)                                                          \n",
      "                                                                 \n",
      " dense_587 (Dense)           (None, 43, 128)           8320      \n",
      "                                                                 \n",
      " dense_588 (Dense)           (None, 43, 64)            8256      \n",
      "                                                                 \n",
      " dense_589 (Dense)           (None, 43, 3)             195       \n",
      "                                                                 \n",
      "=================================================================\n",
      "Total params: 66019 (257.89 KB)\n",
      "Trainable params: 66019 (257.89 KB)\n",
      "Non-trainable params: 0 (0.00 Byte)\n",
      "_________________________________________________________________\n"
     ]
    }
   ],
   "source": [
    "# 定义模型\n",
    "# 输入层\n",
    "input = tf.keras.layers.Input((100,82))\n",
    "\n",
    "# 卷积层1\n",
    "conv1 = tf.keras.layers.Conv1D(32, 7, activation='relu')(input)\n",
    "drop1 = tf.keras.layers.Dropout(0.2)(conv1)\n",
    "\n",
    "conv2 = tf.keras.layers.Conv1D(64, 5, activation='relu')(drop1)\n",
    "drop2 = tf.keras.layers.Dropout(0.2)(conv2)\n",
    "\n",
    "conv3 = tf.keras.layers.Conv1D(64, 5,  activation='relu',)(drop2)\n",
    "\n",
    "max2p = tf.keras.layers.MaxPool1D(2)(conv3)\n",
    "\n",
    "# 输出层\n",
    "dense1 = tf.keras.layers.Dense(128,'relu')(max2p)\n",
    "dense2 = tf.keras.layers.Dense(64, 'relu')(dense1)\n",
    "output = tf.keras.layers.Dense(3, 'softmax')(dense2)\n",
    "\n",
    "#\n",
    "np.set_printoptions(suppress=True)\n",
    "\n",
    "# 定义模型\n",
    "model = tf.keras.Model(inputs=input,outputs=output)\n",
    "\n",
    "adam = tf.keras.optimizers.Adam(0.0003)\n",
    "\n",
    "model.compile(optimizer=adam,\n",
    "              loss='sparse_categorical_crossentropy',\n",
    "              metrics=['accuracy'])\n",
    "\n",
    "model.summary()"
   ]
  },
  {
   "cell_type": "code",
   "execution_count": 402,
   "metadata": {},
   "outputs": [
    {
     "name": "stdout",
     "output_type": "stream",
     "text": [
      "Epoch 1/30\n"
     ]
    },
    {
     "ename": "ValueError",
     "evalue": "in user code:\n\n    File \"e:\\anaconda3\\Lib\\site-packages\\keras\\src\\engine\\training.py\", line 1377, in train_function  *\n        return step_function(self, iterator)\n    File \"e:\\anaconda3\\Lib\\site-packages\\keras\\src\\engine\\training.py\", line 1360, in step_function  **\n        outputs = model.distribute_strategy.run(run_step, args=(data,))\n    File \"e:\\anaconda3\\Lib\\site-packages\\keras\\src\\engine\\training.py\", line 1349, in run_step  **\n        outputs = model.train_step(data)\n    File \"e:\\anaconda3\\Lib\\site-packages\\keras\\src\\engine\\training.py\", line 1131, in train_step\n        return self.compute_metrics(x, y, y_pred, sample_weight)\n    File \"e:\\anaconda3\\Lib\\site-packages\\keras\\src\\engine\\training.py\", line 1225, in compute_metrics\n        self.compiled_metrics.update_state(y, y_pred, sample_weight)\n    File \"e:\\anaconda3\\Lib\\site-packages\\keras\\src\\engine\\compile_utils.py\", line 620, in update_state\n        metric_obj.update_state(y_t, y_p, sample_weight=mask)\n    File \"e:\\anaconda3\\Lib\\site-packages\\keras\\src\\utils\\metrics_utils.py\", line 77, in decorated\n        result = update_state_fn(*args, **kwargs)\n    File \"e:\\anaconda3\\Lib\\site-packages\\keras\\src\\metrics\\base_metric.py\", line 140, in update_state_fn\n        return ag_update_state(*args, **kwargs)\n    File \"e:\\anaconda3\\Lib\\site-packages\\keras\\src\\metrics\\base_metric.py\", line 723, in update_state  **\n        matches = ag_fn(y_true, y_pred, **self._fn_kwargs)\n    File \"e:\\anaconda3\\Lib\\site-packages\\keras\\src\\metrics\\accuracy_metrics.py\", line 459, in sparse_categorical_accuracy\n        matches = metrics_utils.sparse_categorical_matches(y_true, y_pred)\n    File \"e:\\anaconda3\\Lib\\site-packages\\keras\\src\\utils\\metrics_utils.py\", line 969, in sparse_categorical_matches\n        matches = tf.cast(tf.equal(y_true, y_pred), backend.floatx())\n\n    ValueError: Dimensions must be equal, but are 100 and 43 for '{{node Equal}} = Equal[T=DT_FLOAT, incompatible_shape_error=true](Squeeze, Cast_2)' with input shapes: [?,100], [?,43].\n",
     "output_type": "error",
     "traceback": [
      "\u001b[1;31m---------------------------------------------------------------------------\u001b[0m",
      "\u001b[1;31mValueError\u001b[0m                                Traceback (most recent call last)",
      "Cell \u001b[1;32mIn[402], line 1\u001b[0m\n\u001b[1;32m----> 1\u001b[0m model\u001b[39m.\u001b[39mfit(train,label,\n\u001b[0;32m      2\u001b[0m           epochs\u001b[39m=\u001b[39m\u001b[39m30\u001b[39m,\n\u001b[0;32m      3\u001b[0m           verbose\u001b[39m=\u001b[39m\u001b[39m2\u001b[39m)\n\u001b[0;32m      5\u001b[0m z \u001b[39m=\u001b[39m model\u001b[39m.\u001b[39mpredict(test)\n",
      "File \u001b[1;32me:\\anaconda3\\Lib\\site-packages\\keras\\src\\utils\\traceback_utils.py:70\u001b[0m, in \u001b[0;36mfilter_traceback.<locals>.error_handler\u001b[1;34m(*args, **kwargs)\u001b[0m\n\u001b[0;32m     67\u001b[0m     filtered_tb \u001b[39m=\u001b[39m _process_traceback_frames(e\u001b[39m.\u001b[39m__traceback__)\n\u001b[0;32m     68\u001b[0m     \u001b[39m# To get the full stack trace, call:\u001b[39;00m\n\u001b[0;32m     69\u001b[0m     \u001b[39m# `tf.debugging.disable_traceback_filtering()`\u001b[39;00m\n\u001b[1;32m---> 70\u001b[0m     \u001b[39mraise\u001b[39;00m e\u001b[39m.\u001b[39mwith_traceback(filtered_tb) \u001b[39mfrom\u001b[39;00m \u001b[39mNone\u001b[39;00m\n\u001b[0;32m     71\u001b[0m \u001b[39mfinally\u001b[39;00m:\n\u001b[0;32m     72\u001b[0m     \u001b[39mdel\u001b[39;00m filtered_tb\n",
      "File \u001b[1;32m~\\AppData\\Local\\Temp\\__autograph_generated_filel3_zpfhb.py:15\u001b[0m, in \u001b[0;36mouter_factory.<locals>.inner_factory.<locals>.tf__train_function\u001b[1;34m(iterator)\u001b[0m\n\u001b[0;32m     13\u001b[0m \u001b[39mtry\u001b[39;00m:\n\u001b[0;32m     14\u001b[0m     do_return \u001b[39m=\u001b[39m \u001b[39mTrue\u001b[39;00m\n\u001b[1;32m---> 15\u001b[0m     retval_ \u001b[39m=\u001b[39m ag__\u001b[39m.\u001b[39mconverted_call(ag__\u001b[39m.\u001b[39mld(step_function), (ag__\u001b[39m.\u001b[39mld(\u001b[39mself\u001b[39m), ag__\u001b[39m.\u001b[39mld(iterator)), \u001b[39mNone\u001b[39;00m, fscope)\n\u001b[0;32m     16\u001b[0m \u001b[39mexcept\u001b[39;00m:\n\u001b[0;32m     17\u001b[0m     do_return \u001b[39m=\u001b[39m \u001b[39mFalse\u001b[39;00m\n",
      "\u001b[1;31mValueError\u001b[0m: in user code:\n\n    File \"e:\\anaconda3\\Lib\\site-packages\\keras\\src\\engine\\training.py\", line 1377, in train_function  *\n        return step_function(self, iterator)\n    File \"e:\\anaconda3\\Lib\\site-packages\\keras\\src\\engine\\training.py\", line 1360, in step_function  **\n        outputs = model.distribute_strategy.run(run_step, args=(data,))\n    File \"e:\\anaconda3\\Lib\\site-packages\\keras\\src\\engine\\training.py\", line 1349, in run_step  **\n        outputs = model.train_step(data)\n    File \"e:\\anaconda3\\Lib\\site-packages\\keras\\src\\engine\\training.py\", line 1131, in train_step\n        return self.compute_metrics(x, y, y_pred, sample_weight)\n    File \"e:\\anaconda3\\Lib\\site-packages\\keras\\src\\engine\\training.py\", line 1225, in compute_metrics\n        self.compiled_metrics.update_state(y, y_pred, sample_weight)\n    File \"e:\\anaconda3\\Lib\\site-packages\\keras\\src\\engine\\compile_utils.py\", line 620, in update_state\n        metric_obj.update_state(y_t, y_p, sample_weight=mask)\n    File \"e:\\anaconda3\\Lib\\site-packages\\keras\\src\\utils\\metrics_utils.py\", line 77, in decorated\n        result = update_state_fn(*args, **kwargs)\n    File \"e:\\anaconda3\\Lib\\site-packages\\keras\\src\\metrics\\base_metric.py\", line 140, in update_state_fn\n        return ag_update_state(*args, **kwargs)\n    File \"e:\\anaconda3\\Lib\\site-packages\\keras\\src\\metrics\\base_metric.py\", line 723, in update_state  **\n        matches = ag_fn(y_true, y_pred, **self._fn_kwargs)\n    File \"e:\\anaconda3\\Lib\\site-packages\\keras\\src\\metrics\\accuracy_metrics.py\", line 459, in sparse_categorical_accuracy\n        matches = metrics_utils.sparse_categorical_matches(y_true, y_pred)\n    File \"e:\\anaconda3\\Lib\\site-packages\\keras\\src\\utils\\metrics_utils.py\", line 969, in sparse_categorical_matches\n        matches = tf.cast(tf.equal(y_true, y_pred), backend.floatx())\n\n    ValueError: Dimensions must be equal, but are 100 and 43 for '{{node Equal}} = Equal[T=DT_FLOAT, incompatible_shape_error=true](Squeeze, Cast_2)' with input shapes: [?,100], [?,43].\n"
     ]
    }
   ],
   "source": [
    "model.fit(train,label,\n",
    "          epochs=30,\n",
    "          verbose=2)\n",
    "\n",
    "z = model.predict(test)"
   ]
  },
  {
   "cell_type": "code",
   "execution_count": null,
   "metadata": {},
   "outputs": [],
   "source": [
    "z"
   ]
  }
 ],
 "metadata": {
  "kernelspec": {
   "display_name": "base",
   "language": "python",
   "name": "python3"
  },
  "language_info": {
   "codemirror_mode": {
    "name": "ipython",
    "version": 3
   },
   "file_extension": ".py",
   "mimetype": "text/x-python",
   "name": "python",
   "nbconvert_exporter": "python",
   "pygments_lexer": "ipython3",
   "version": "3.11.5"
  },
  "orig_nbformat": 4
 },
 "nbformat": 4,
 "nbformat_minor": 2
}
