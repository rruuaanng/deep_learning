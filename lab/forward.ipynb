{
 "cells": [
  {
   "cell_type": "code",
   "execution_count": 1,
   "metadata": {},
   "outputs": [],
   "source": [
    "import numpy as np\n",
    "\n",
    "# 训练集和测试集\n",
    "X = np.array([1400, 1600, 1700, 1875, 1100])\n",
    "Y = np.array([100000, 120000, 130000, 145000, 85000])\n",
    "test = np.array([1500])\n",
    "\n",
    "# 初始化神经网络的参数\n",
    "input_size = 1  # 输入特征数\n",
    "hidden_size = 2  # 隐藏层大小\n",
    "output_size = 1  # 输出大小\n",
    "\n",
    "# 激活函数\n",
    "sigmoid = lambda x: 1 / (1 + np.exp(-x))\n",
    "\n",
    "# 初始化权重和偏差\n",
    "w1 = np.random.randn(input_size, hidden_size)\n",
    "b1 = np.zeros((1, hidden_size))\n",
    "w2 = np.random.randn(hidden_size, output_size)\n",
    "b2 = np.zeros((1, output_size))\n",
    "\n",
    "# 执行正向传播迭代\n",
    "for _ in range(100):\n",
    "    hidden_input = X.reshape(-1, 1)\n",
    "    # 输入层到隐藏层\n",
    "    hidden = sigmoid(np.dot(hidden_input, w1) + b1)\n",
    "\n",
    "    # 隐藏层到输出层\n",
    "    output = np.dot(hidden, w2) + b2\n",
    "\n",
    "    # 计算损失\n",
    "    loss = 0.5 * np.mean((output - Y) ** 2)\n"
   ]
  }
 ],
 "metadata": {
  "kernelspec": {
   "display_name": "base",
   "language": "python",
   "name": "python3"
  },
  "language_info": {
   "codemirror_mode": {
    "name": "ipython",
    "version": 3
   },
   "file_extension": ".py",
   "mimetype": "text/x-python",
   "name": "python",
   "nbconvert_exporter": "python",
   "pygments_lexer": "ipython3",
   "version": "3.11.5"
  },
  "orig_nbformat": 4
 },
 "nbformat": 4,
 "nbformat_minor": 2
}
