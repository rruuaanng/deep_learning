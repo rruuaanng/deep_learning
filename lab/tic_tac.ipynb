{
 "cells": [
  {
   "cell_type": "code",
   "execution_count": 149,
   "metadata": {},
   "outputs": [],
   "source": [
    "import tensorflow as tf\n",
    "import numpy as np\n",
    "import pandas as pd\n",
    "\n",
    "\"\"\"\n",
    "井字棋胜负分类\n",
    "x：用户\n",
    "o：机器人\n",
    "\"\"\"\n",
    "\n",
    "# 导入数据\n",
    "data = pd.read_csv('E://dataset/tic-tac-toe.data')\n",
    "train = data.to_numpy()[:900,:-1]\n",
    "label = data.to_numpy()[:900,-1]\n",
    "test = data.to_numpy()[900:,:-1]\n",
    "test_label = data.to_numpy()[900:,-1]"
   ]
  },
  {
   "cell_type": "code",
   "execution_count": 132,
   "metadata": {},
   "outputs": [
    {
     "ename": "KeyError",
     "evalue": "0",
     "output_type": "error",
     "traceback": [
      "\u001b[1;31m---------------------------------------------------------------------------\u001b[0m",
      "\u001b[1;31mKeyError\u001b[0m                                  Traceback (most recent call last)",
      "Cell \u001b[1;32mIn[132], line 5\u001b[0m\n\u001b[0;32m      3\u001b[0m cd2 \u001b[39m=\u001b[39m {\u001b[39m'\u001b[39m\u001b[39mpositive\u001b[39m\u001b[39m'\u001b[39m:\u001b[39m0\u001b[39m,\u001b[39m'\u001b[39m\u001b[39mnegative\u001b[39m\u001b[39m'\u001b[39m:\u001b[39m1\u001b[39m}\n\u001b[0;32m      4\u001b[0m \u001b[39m# 将字符串映射为数字\u001b[39;00m\n\u001b[1;32m----> 5\u001b[0m train \u001b[39m=\u001b[39m np\u001b[39m.\u001b[39mvectorize(\u001b[39mlambda\u001b[39;00m x: cd1[x])(train)\n\u001b[0;32m      6\u001b[0m label \u001b[39m=\u001b[39m np\u001b[39m.\u001b[39mvectorize(\u001b[39mlambda\u001b[39;00m x: cd2[x])(label)\n\u001b[0;32m      7\u001b[0m test \u001b[39m=\u001b[39m np\u001b[39m.\u001b[39mvectorize(\u001b[39mlambda\u001b[39;00m x: cd1[x])(test)\n",
      "File \u001b[1;32me:\\anaconda3\\Lib\\site-packages\\numpy\\lib\\function_base.py:2329\u001b[0m, in \u001b[0;36mvectorize.__call__\u001b[1;34m(self, *args, **kwargs)\u001b[0m\n\u001b[0;32m   2326\u001b[0m     vargs \u001b[39m=\u001b[39m [args[_i] \u001b[39mfor\u001b[39;00m _i \u001b[39min\u001b[39;00m inds]\n\u001b[0;32m   2327\u001b[0m     vargs\u001b[39m.\u001b[39mextend([kwargs[_n] \u001b[39mfor\u001b[39;00m _n \u001b[39min\u001b[39;00m names])\n\u001b[1;32m-> 2329\u001b[0m \u001b[39mreturn\u001b[39;00m \u001b[39mself\u001b[39m\u001b[39m.\u001b[39m_vectorize_call(func\u001b[39m=\u001b[39mfunc, args\u001b[39m=\u001b[39mvargs)\n",
      "File \u001b[1;32me:\\anaconda3\\Lib\\site-packages\\numpy\\lib\\function_base.py:2407\u001b[0m, in \u001b[0;36mvectorize._vectorize_call\u001b[1;34m(self, func, args)\u001b[0m\n\u001b[0;32m   2405\u001b[0m     res \u001b[39m=\u001b[39m func()\n\u001b[0;32m   2406\u001b[0m \u001b[39melse\u001b[39;00m:\n\u001b[1;32m-> 2407\u001b[0m     ufunc, otypes \u001b[39m=\u001b[39m \u001b[39mself\u001b[39m\u001b[39m.\u001b[39m_get_ufunc_and_otypes(func\u001b[39m=\u001b[39mfunc, args\u001b[39m=\u001b[39margs)\n\u001b[0;32m   2409\u001b[0m     \u001b[39m# Convert args to object arrays first\u001b[39;00m\n\u001b[0;32m   2410\u001b[0m     inputs \u001b[39m=\u001b[39m [asanyarray(a, dtype\u001b[39m=\u001b[39m\u001b[39mobject\u001b[39m) \u001b[39mfor\u001b[39;00m a \u001b[39min\u001b[39;00m args]\n",
      "File \u001b[1;32me:\\anaconda3\\Lib\\site-packages\\numpy\\lib\\function_base.py:2367\u001b[0m, in \u001b[0;36mvectorize._get_ufunc_and_otypes\u001b[1;34m(self, func, args)\u001b[0m\n\u001b[0;32m   2363\u001b[0m     \u001b[39mraise\u001b[39;00m \u001b[39mValueError\u001b[39;00m(\u001b[39m'\u001b[39m\u001b[39mcannot call `vectorize` on size 0 inputs \u001b[39m\u001b[39m'\u001b[39m\n\u001b[0;32m   2364\u001b[0m                      \u001b[39m'\u001b[39m\u001b[39munless `otypes` is set\u001b[39m\u001b[39m'\u001b[39m)\n\u001b[0;32m   2366\u001b[0m inputs \u001b[39m=\u001b[39m [arg\u001b[39m.\u001b[39mflat[\u001b[39m0\u001b[39m] \u001b[39mfor\u001b[39;00m arg \u001b[39min\u001b[39;00m args]\n\u001b[1;32m-> 2367\u001b[0m outputs \u001b[39m=\u001b[39m func(\u001b[39m*\u001b[39minputs)\n\u001b[0;32m   2369\u001b[0m \u001b[39m# Performance note: profiling indicates that -- for simple\u001b[39;00m\n\u001b[0;32m   2370\u001b[0m \u001b[39m# functions at least -- this wrapping can almost double the\u001b[39;00m\n\u001b[0;32m   2371\u001b[0m \u001b[39m# execution time.\u001b[39;00m\n\u001b[0;32m   2372\u001b[0m \u001b[39m# Hence we make it optional.\u001b[39;00m\n\u001b[0;32m   2373\u001b[0m \u001b[39mif\u001b[39;00m \u001b[39mself\u001b[39m\u001b[39m.\u001b[39mcache:\n",
      "Cell \u001b[1;32mIn[132], line 5\u001b[0m, in \u001b[0;36m<lambda>\u001b[1;34m(x)\u001b[0m\n\u001b[0;32m      3\u001b[0m cd2 \u001b[39m=\u001b[39m {\u001b[39m'\u001b[39m\u001b[39mpositive\u001b[39m\u001b[39m'\u001b[39m:\u001b[39m0\u001b[39m,\u001b[39m'\u001b[39m\u001b[39mnegative\u001b[39m\u001b[39m'\u001b[39m:\u001b[39m1\u001b[39m}\n\u001b[0;32m      4\u001b[0m \u001b[39m# 将字符串映射为数字\u001b[39;00m\n\u001b[1;32m----> 5\u001b[0m train \u001b[39m=\u001b[39m np\u001b[39m.\u001b[39mvectorize(\u001b[39mlambda\u001b[39;00m x: cd1[x])(train)\n\u001b[0;32m      6\u001b[0m label \u001b[39m=\u001b[39m np\u001b[39m.\u001b[39mvectorize(\u001b[39mlambda\u001b[39;00m x: cd2[x])(label)\n\u001b[0;32m      7\u001b[0m test \u001b[39m=\u001b[39m np\u001b[39m.\u001b[39mvectorize(\u001b[39mlambda\u001b[39;00m x: cd1[x])(test)\n",
      "\u001b[1;31mKeyError\u001b[0m: 0"
     ]
    }
   ],
   "source": [
    "# 预处理\n",
    "cd1 = {'x': 0, 'o': 1, 'b': 2}\n",
    "cd2 = {'positive':0,'negative':1}\n",
    "# 将字符串映射为数字\n",
    "train = np.vectorize(lambda x: cd1[x])(train)\n",
    "label = np.vectorize(lambda x: cd2[x])(label)\n",
    "test = np.vectorize(lambda x: cd1[x])(test)\n",
    "test_label = np.vectorize(lambda x: cd2[x])(test_label)"
   ]
  }
 ],
 "metadata": {
  "kernelspec": {
   "display_name": "base",
   "language": "python",
   "name": "python3"
  },
  "language_info": {
   "codemirror_mode": {
    "name": "ipython",
    "version": 3
   },
   "file_extension": ".py",
   "mimetype": "text/x-python",
   "name": "python",
   "nbconvert_exporter": "python",
   "pygments_lexer": "ipython3",
   "version": "3.11.5"
  },
  "orig_nbformat": 4
 },
 "nbformat": 4,
 "nbformat_minor": 2
}
