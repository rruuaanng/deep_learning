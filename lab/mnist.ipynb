{
 "cells": [
  {
   "cell_type": "code",
   "execution_count": 2,
   "metadata": {},
   "outputs": [],
   "source": [
    "import tensorflow as tf\n",
    "from tensorflow.keras.datasets import mnist\n",
    "from tensorflow.keras.metrics import Accuracy\n",
    "import matplotlib.pyplot as plt\n",
    "import numpy as np\n",
    "from tensorflow.keras.callbacks import TensorBoard\n",
    "\n",
    "\n",
    "\"\"\"\n",
    "手写数字识别\n",
    "\"\"\"\n",
    "\n",
    "# 相关设置\n",
    "np.set_printoptions(suppress=True)\n",
    "\n",
    "# 导入数据\n",
    "(x,y) ,(test, test_label) = mnist.load_data()"
   ]
  },
  {
   "cell_type": "code",
   "execution_count": null,
   "metadata": {},
   "outputs": [],
   "source": [
    "# 预处理训练数据和测试数据\n",
    "# 将三维图片转化为一维向量\n",
    "train_x = x.reshape(60000,784).astype('float32')\n",
    "test_x = test.reshape(10000,784).astype('float32')\n",
    "\n",
    "# 图像标签预处理\n",
    "label = tf.one_hot(y,10)"
   ]
  },
  {
   "cell_type": "code",
   "execution_count": 218,
   "metadata": {},
   "outputs": [
    {
     "name": "stdout",
     "output_type": "stream",
     "text": [
      "Epoch 1/10\n",
      "1875/1875 [==============================] - 4s 2ms/step - loss: 0.8333\n",
      "Epoch 2/10\n",
      "1875/1875 [==============================] - 3s 2ms/step - loss: 0.3075\n",
      "Epoch 3/10\n",
      "1875/1875 [==============================] - 3s 1ms/step - loss: 0.2523\n",
      "Epoch 4/10\n",
      "1875/1875 [==============================] - 3s 2ms/step - loss: 0.2180\n",
      "Epoch 5/10\n",
      "1875/1875 [==============================] - 3s 2ms/step - loss: 0.1901\n",
      "Epoch 6/10\n",
      "1875/1875 [==============================] - 3s 2ms/step - loss: 0.1708\n",
      "Epoch 7/10\n",
      "1875/1875 [==============================] - 3s 2ms/step - loss: 0.1586\n",
      "Epoch 8/10\n",
      "1875/1875 [==============================] - 3s 2ms/step - loss: 0.1512\n",
      "Epoch 9/10\n",
      "1875/1875 [==============================] - 3s 1ms/step - loss: 0.1426\n",
      "Epoch 10/10\n",
      "1875/1875 [==============================] - 3s 1ms/step - loss: 0.1318\n",
      "313/313 [==============================] - 0s 911us/step\n"
     ]
    }
   ],
   "source": [
    "# 创建神经网络\n",
    "model = tf.keras.Sequential([\n",
    "    tf.keras.layers.Dense(30,'relu'),\n",
    "    tf.keras.layers.Dense(30,'relu'),\n",
    "    tf.keras.layers.Dense(30,'relu'),\n",
    "    tf.keras.layers.Dense(30,'relu'),\n",
    "    tf.keras.layers.Dense(10,'softmax')\n",
    "])\n",
    "\n",
    "# 编译模型\n",
    "model.compile(optimizer='adam',\n",
    "              loss='categorical_crossentropy')\n",
    "\n",
    "# 训练\n",
    "model.fit(train_x,label,epochs=10)\n",
    "\n",
    "# 预测\n",
    "z = model.predict(test_x)"
   ]
  },
  {
   "cell_type": "code",
   "execution_count": 219,
   "metadata": {},
   "outputs": [
    {
     "name": "stdout",
     "output_type": "stream",
     "text": [
      "正确率：0.9501000046730042\n"
     ]
    }
   ],
   "source": [
    "# 评估模型\n",
    "result = np.argmax(z,axis=1)\n",
    "acc = Accuracy()\n",
    "acc.update_state(test_label,result)\n",
    "print(f'正确率：{acc.result()}')"
   ]
  },
  {
   "cell_type": "code",
   "execution_count": 1,
   "metadata": {},
   "outputs": [
    {
     "ename": "NameError",
     "evalue": "name 'plt' is not defined",
     "output_type": "error",
     "traceback": [
      "\u001b[1;31m---------------------------------------------------------------------------\u001b[0m",
      "\u001b[1;31mNameError\u001b[0m                                 Traceback (most recent call last)",
      "Cell \u001b[1;32mIn[1], line 3\u001b[0m\n\u001b[0;32m      1\u001b[0m \u001b[39m# 可视化预测结果\u001b[39;00m\n\u001b[0;32m      2\u001b[0m \u001b[39mfor\u001b[39;00m i \u001b[39min\u001b[39;00m \u001b[39mrange\u001b[39m(\u001b[39m1\u001b[39m,\u001b[39m10\u001b[39m):\n\u001b[1;32m----> 3\u001b[0m     plt\u001b[39m.\u001b[39msubplot(\u001b[39m3\u001b[39m,\u001b[39m3\u001b[39m,i)\n\u001b[0;32m      4\u001b[0m     plt\u001b[39m.\u001b[39mimshow(test[i \u001b[39m-\u001b[39m \u001b[39m1\u001b[39m])\n\u001b[0;32m      5\u001b[0m     plt\u001b[39m.\u001b[39mtitle(result[i \u001b[39m-\u001b[39m \u001b[39m1\u001b[39m])\n",
      "\u001b[1;31mNameError\u001b[0m: name 'plt' is not defined"
     ]
    }
   ],
   "source": [
    "# 可视化预测结果\n",
    "for i in range(1,10):\n",
    "    plt.subplot(3,3,i)\n",
    "    plt.imshow(test[i - 1])\n",
    "    plt.title(result[i - 1])"
   ]
  }
 ],
 "metadata": {
  "kernelspec": {
   "display_name": "base",
   "language": "python",
   "name": "python3"
  },
  "language_info": {
   "codemirror_mode": {
    "name": "ipython",
    "version": 3
   },
   "file_extension": ".py",
   "mimetype": "text/x-python",
   "name": "python",
   "nbconvert_exporter": "python",
   "pygments_lexer": "ipython3",
   "version": "3.11.5"
  },
  "orig_nbformat": 4
 },
 "nbformat": 4,
 "nbformat_minor": 2
}
