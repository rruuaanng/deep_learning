{
 "cells": [
  {
   "cell_type": "code",
   "execution_count": 54,
   "metadata": {},
   "outputs": [
    {
     "data": {
      "text/plain": [
       "<tf.Tensor: shape=(3, 1), dtype=float64, numpy=\n",
       "array([[0.00269123],\n",
       "       [0.0032859 ],\n",
       "       [0.00401145]])>"
      ]
     },
     "execution_count": 54,
     "metadata": {},
     "output_type": "execute_result"
    }
   ],
   "source": [
    "import tensorflow as tf\n",
    "import numpy as np\n",
    "\n",
    "input = tf.constant([[1,2,3],\n",
    "                     [4,5,6],\n",
    "                     [7,8,9]],dtype=tf.float64)\n",
    "\n",
    "# 定义隐藏层和输出层权重\n",
    "w1 = tf.constant(np.random.randn(3,2))\n",
    "w2 = tf.constant(np.random.randn(2,1))\n",
    "\n",
    "sigmoid = lambda x: 1 / (1 + tf.exp(-x))\n",
    "\n",
    "# 神经网络实现\n",
    "hiddle = tf.transpose(input) @ w1\n",
    "output = sigmoid(hiddle @ w2)\n",
    "print(output)"
   ]
  }
 ],
 "metadata": {
  "kernelspec": {
   "display_name": "base",
   "language": "python",
   "name": "python3"
  },
  "language_info": {
   "codemirror_mode": {
    "name": "ipython",
    "version": 3
   },
   "file_extension": ".py",
   "mimetype": "text/x-python",
   "name": "python",
   "nbconvert_exporter": "python",
   "pygments_lexer": "ipython3",
   "version": "3.11.5"
  },
  "orig_nbformat": 4
 },
 "nbformat": 4,
 "nbformat_minor": 2
}
