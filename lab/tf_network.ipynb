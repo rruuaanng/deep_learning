{
 "cells": [
  {
   "cell_type": "code",
   "execution_count": 21,
   "metadata": {},
   "outputs": [
    {
     "data": {
      "text/plain": [
       "<tf.Tensor: shape=(2, 1), dtype=float64, numpy=\n",
       "array([[-0.16301144],\n",
       "       [ 0.07169211]])>"
      ]
     },
     "execution_count": 21,
     "metadata": {},
     "output_type": "execute_result"
    }
   ],
   "source": [
    "import tensorflow as tf\n",
    "\n",
    "# 定义输入数据和标签\n",
    "x = tf.constant([\n",
    "              [0, 1],\n",
    "              [1, 0],\n",
    "              [1, 1],\n",
    "              [0, 0],\n",
    "              [0, 0]])\n",
    "y = tf.constant([[1,1],[1,1],[0,0],[0,0],[0,0]])\n",
    "\n",
    "test = tf.constant([\n",
    "    [0,0],\n",
    "    [1,2],\n",
    "    [1,0],\n",
    "    [0,1]\n",
    "])\n",
    "\n",
    "# 定义神经网络结构\n",
    "model = tf.keras.Sequential([\n",
    "    tf.keras.layers.Dense(100, activation='relu'),\n",
    "    tf.keras.layers.Dense(2, activation='sigmoid')\n",
    "])\n",
    "\n",
    "# 编译模型\n",
    "model.compile(optimizer='adam',\n",
    "              loss='binary_crossentropy',\n",
    "              metrics=['accuracy'])\n",
    "\n",
    "# 训练模型\n",
    "model.fit(x, y, epochs=1000, verbose=0)\n",
    "\n",
    "# 进行预测\n",
    "predictions = model.predict(test)\n",
    "print(\"Predictions:\", predictions)"
   ]
  }
 ],
 "metadata": {
  "kernelspec": {
   "display_name": "base",
   "language": "python",
   "name": "python3"
  },
  "language_info": {
   "codemirror_mode": {
    "name": "ipython",
    "version": 3
   },
   "file_extension": ".py",
   "mimetype": "text/x-python",
   "name": "python",
   "nbconvert_exporter": "python",
   "pygments_lexer": "ipython3",
   "version": "3.11.5"
  },
  "orig_nbformat": 4
 },
 "nbformat": 4,
 "nbformat_minor": 2
}
