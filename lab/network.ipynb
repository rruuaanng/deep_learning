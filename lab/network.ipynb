{
 "cells": [
  {
   "cell_type": "code",
   "execution_count": 14,
   "metadata": {},
   "outputs": [
    {
     "name": "stdout",
     "output_type": "stream",
     "text": [
      "[252]\n"
     ]
    }
   ],
   "source": [
    "import numpy as np\n",
    "\n",
    "# input = [x1,x2,x3]\n",
    "input = np.array([1,2,3])\n",
    "# hiddle(两个节点)\n",
    "w1 = np.array([[4,5],[6,7],[8,9]])\n",
    "# output(一个节点)\n",
    "w2 = np.array([[4],[2]])\n",
    "# 激活函数\n",
    "sigmoid = lambda x: 1 / (1 + np.exp(-x))\n",
    "\n",
    "# 神经网络实现\n",
    "# 隐藏层\n",
    "hiddle = np.dot(input,w1)\n",
    "# 输出层\n",
    "output = np.dot(hiddle,w2)\n",
    "print(output)\n"
   ]
  }
 ],
 "metadata": {
  "kernelspec": {
   "display_name": "base",
   "language": "python",
   "name": "python3"
  },
  "language_info": {
   "codemirror_mode": {
    "name": "ipython",
    "version": 3
   },
   "file_extension": ".py",
   "mimetype": "text/x-python",
   "name": "python",
   "nbconvert_exporter": "python",
   "pygments_lexer": "ipython3",
   "version": "3.11.5"
  },
  "orig_nbformat": 4
 },
 "nbformat": 4,
 "nbformat_minor": 2
}
