{
 "cells": [
  {
   "cell_type": "code",
   "execution_count": 308,
   "metadata": {},
   "outputs": [],
   "source": [
    "import numpy as np\n",
    "\n",
    "# 关闭科学计数\n",
    "np.set_printoptions(suppress=True)\n",
    "\n",
    "# 定义训练集和测试集\n",
    "x = np.array([[1,1,0],\n",
    "              [0,1,0],\n",
    "              [1,0,1],\n",
    "              [0,0,1],\n",
    "              [0,1,0],\n",
    "              [1,0,0],\n",
    "              [1,1,1]])\n",
    "y = np.array([1,1,0,0,1,0,0])\n",
    "test = x\n",
    "\n",
    "# 激活函数\n",
    "relu = lambda x: np.maximum(0, x)\n",
    "sigmoid = lambda x: 1 / (1 + np.exp(-x))\n",
    "\n",
    "# 多层神经网络\n",
    "class NN:\n",
    "    def __init__(self, input_size, hidden_size, output_size):\n",
    "        self.w1 = np.random.randn(input_size, hidden_size)\n",
    "        self.w2 = np.random.randn(hidden_size, output_size)\n",
    "        self.b1 = np.zeros((hidden_size))\n",
    "        self.b2 = np.zeros((output_size))\n",
    "\n",
    "    # 正向传播\n",
    "    def __forward(self, x):\n",
    "        z1 = x @ self.w1 + self.b1\n",
    "        self.a1 = relu(z1)\n",
    "        z2 = self.a1 @ self.w2 + self.b2\n",
    "        self.a2 = sigmoid(z2)\n",
    "        return self.a2\n",
    "\n",
    "    # 模型训练\n",
    "    def train(self, x, y, epochs=100, rate=0.3):\n",
    "        # 特征数量\n",
    "        m = x.shape[1]\n",
    "        y = y.reshape(-1, 1)\n",
    "        for _ in range(epochs):\n",
    "            # 前向传播\n",
    "            a2 = self.__forward(x)\n",
    "\n",
    "            # 反向传播\n",
    "            # δ = yhat - y\n",
    "            # 预测结果 - 目标结果 = 误差\n",
    "            dt2 = a2 - y\n",
    "            # \n",
    "            dw2 = self.a1.T @ dt2\n",
    "            db2 = np.sum(dt2, axis=0)\n",
    "            dt1 = dt2 @ self.w2.T * (self.a1 > 0)\n",
    "            dw1 = x.T @ dt1\n",
    "            db1 = np.sum(dt1, axis=0)\n",
    "            \n",
    "            # 更新权重和截距\n",
    "            self.w2 -= rate * dw2\n",
    "            self.b2 -= rate * db2\n",
    "            self.w1 -= rate * dw1\n",
    "            self.b1 -= rate * db1\n",
    "\n",
    "    # 模型预测    \n",
    "    def predict(self,x):\n",
    "        return self.__forward(x)"
   ]
  },
  {
   "cell_type": "code",
   "execution_count": 309,
   "metadata": {},
   "outputs": [
    {
     "data": {
      "text/plain": [
       "array([[0.99901192],\n",
       "       [0.99997917],\n",
       "       [0.00000132],\n",
       "       [0.00003131],\n",
       "       [0.99997917],\n",
       "       [0.00078604],\n",
       "       [0.00049111]])"
      ]
     },
     "execution_count": 309,
     "metadata": {},
     "output_type": "execute_result"
    }
   ],
   "source": [
    "#\n",
    "nn = NN(x.shape[1], 3, 1)\n",
    "nn.train(x, y, epochs=1000, rate=0.1)\n",
    "nn.predict(test)"
   ]
  }
 ],
 "metadata": {
  "kernelspec": {
   "display_name": "base",
   "language": "python",
   "name": "python3"
  },
  "language_info": {
   "codemirror_mode": {
    "name": "ipython",
    "version": 3
   },
   "file_extension": ".py",
   "mimetype": "text/x-python",
   "name": "python",
   "nbconvert_exporter": "python",
   "pygments_lexer": "ipython3",
   "version": "3.11.5"
  },
  "orig_nbformat": 4
 },
 "nbformat": 4,
 "nbformat_minor": 2
}
