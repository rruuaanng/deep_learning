{
 "cells": [
  {
   "cell_type": "code",
   "execution_count": 114,
   "metadata": {},
   "outputs": [
    {
     "name": "stdout",
     "output_type": "stream",
     "text": [
      "[0.999999]\n"
     ]
    }
   ],
   "source": [
    "import numpy as np\n",
    "\n",
    "# input = [x1,x2,x3](三个特征)\n",
    "input = np.array([1,2,3])\n",
    "# hiddle(两个节点)\n",
    "w1 = np.random.randn(3,2)\n",
    "# output(一个节点)\n",
    "w2 = np.random.randn(2,1)\n",
    "# 激活函数\n",
    "sigmoid = lambda x: 1 / (1 + np.exp(-x))\n",
    "\n",
    "# 神经网络实现\n",
    "# 隐藏层\n",
    "hiddle = np.dot(input,w1)\n",
    "# 输出层\n",
    "output = sigmoid(np.dot(hiddle,w2))\n",
    "print(output)"
   ]
  },
  {
   "cell_type": "markdown",
   "metadata": {},
   "source": [
    "$[1,2,3]\\begin{bmatrix}4,5\\\\ 6,7 \\\\8,9 \\end{bmatrix}$"
   ]
  },
  {
   "cell_type": "markdown",
   "metadata": {},
   "source": [
    "$\\vector{1,23}$"
   ]
  }
 ],
 "metadata": {
  "kernelspec": {
   "display_name": "base",
   "language": "python",
   "name": "python3"
  },
  "language_info": {
   "codemirror_mode": {
    "name": "ipython",
    "version": 3
   },
   "file_extension": ".py",
   "mimetype": "text/x-python",
   "name": "python",
   "nbconvert_exporter": "python",
   "pygments_lexer": "ipython3",
   "version": "3.11.5"
  },
  "orig_nbformat": 4
 },
 "nbformat": 4,
 "nbformat_minor": 2
}
