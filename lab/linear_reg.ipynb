{
 "cells": [
  {
   "cell_type": "code",
   "execution_count": 12,
   "metadata": {},
   "outputs": [],
   "source": [
    "import numpy as np\n",
    "\n",
    "\"\"\"\n",
    "\n",
    "题目：\n",
    "假设你有一个包含房屋面积（平方英尺）和对应价格（美元）的数据集，如下所示：\n",
    "\n",
    "面积（平方英尺）\t价格（美元）\n",
    "1400\t100000\n",
    "1600\t120000\n",
    "1700\t130000\n",
    "1875\t145000\n",
    "1100\t85000\n",
    "使用线性回归预测面积对应的价格\n",
    "\"\"\"\n",
    "\n",
    "# 测试数据(平方)\n",
    "data = np.array([1400,1600])\n",
    "# 训练数据(面积)\n",
    "x = np.array([1400, 1600, 1700, 1875, 1100])\n",
    "# 实际值(价格)\n",
    "y = np.array([100000, 120000, 130000, 145000, 85000])\n",
    "\n",
    "# 斜率估计\n",
    "w = np.sum((x - x.mean()) * (y - y.mean())) / np.sum((x - x.mean()) ** 2)\n",
    "\n",
    "# 截距估计\n",
    "b = y.mean() - w * x.mean()"
   ]
  },
  {
   "cell_type": "markdown",
   "metadata": {},
   "source": [
    "$w=\\frac{\\sum^n_{i=1}(x_i-\\hat{x})(y_i-\\hat{y})}{\\sum{^n_{i=1}(x_i-\\hat{x})^2}}$    \n",
    "$b=\\hat{y}-w\\hat{x}$"
   ]
  },
  {
   "cell_type": "code",
   "execution_count": 13,
   "metadata": {},
   "outputs": [
    {
     "name": "stdout",
     "output_type": "stream",
     "text": [
      "预测价格:[105308.53314528 121147.74330042]\n",
      "对应面积：[1400 1600]\n"
     ]
    }
   ],
   "source": [
    "# 使用模型进行预测\n",
    "predicted_y = np.dot(w.T, data) + b\n",
    "print(f'预测价格:{predicted_y}\\n对应面积：{data}')"
   ]
  },
  {
   "cell_type": "markdown",
   "metadata": {},
   "source": [
    "$f(x)=W^Tx+b$"
   ]
  }
 ],
 "metadata": {
  "kernelspec": {
   "display_name": "base",
   "language": "python",
   "name": "python3"
  },
  "language_info": {
   "codemirror_mode": {
    "name": "ipython",
    "version": 3
   },
   "file_extension": ".py",
   "mimetype": "text/x-python",
   "name": "python",
   "nbconvert_exporter": "python",
   "pygments_lexer": "ipython3",
   "version": "3.11.5"
  },
  "orig_nbformat": 4
 },
 "nbformat": 4,
 "nbformat_minor": 2
}
