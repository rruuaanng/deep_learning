{
 "cells": [
  {
   "cell_type": "code",
   "execution_count": 13,
   "metadata": {},
   "outputs": [
    {
     "name": "stdout",
     "output_type": "stream",
     "text": [
      "Epoch 1/10\n",
      "1/1 [==============================] - 0s 254ms/step - loss: 14128475136.0000\n",
      "Epoch 2/10\n",
      "1/1 [==============================] - 0s 4ms/step - loss: 14128103424.0000\n",
      "Epoch 3/10\n",
      "1/1 [==============================] - 0s 3ms/step - loss: 14127732736.0000\n",
      "Epoch 4/10\n",
      "1/1 [==============================] - 0s 3ms/step - loss: 14127363072.0000\n",
      "Epoch 5/10\n",
      "1/1 [==============================] - 0s 6ms/step - loss: 14126992384.0000\n",
      "Epoch 6/10\n",
      "1/1 [==============================] - 0s 5ms/step - loss: 14126622720.0000\n",
      "Epoch 7/10\n",
      "1/1 [==============================] - 0s 4ms/step - loss: 14126252032.0000\n",
      "Epoch 8/10\n",
      "1/1 [==============================] - 0s 6ms/step - loss: 14125881344.0000\n",
      "Epoch 9/10\n",
      "1/1 [==============================] - 0s 4ms/step - loss: 14125511680.0000\n",
      "Epoch 10/10\n",
      "1/1 [==============================] - 0s 5ms/step - loss: 14125139968.0000\n",
      "1/1 [==============================] - 0s 53ms/step\n"
     ]
    },
    {
     "data": {
      "text/plain": [
       "array([[-815.3678 ],\n",
       "       [-931.85034]], dtype=float32)"
      ]
     },
     "execution_count": 13,
     "metadata": {},
     "output_type": "execute_result"
    }
   ],
   "source": [
    "import numpy as np\n",
    "\n",
    "\"\"\"\n",
    "\n",
    "题目：\n",
    "假设你有一个包含房屋面积（平方英尺）和对应价格（美元）的数据集，如下所示：\n",
    "\n",
    "面积（平方英尺）\t价格（美元）\n",
    "1400\t100000\n",
    "1600\t120000\n",
    "1700\t130000\n",
    "1875\t145000\n",
    "1100\t85000\n",
    "使用线性回归预测面积对应的价格\n",
    "\"\"\"\n",
    "\n",
    "# 测试数据(平方)\n",
    "data = np.array([1700,1600])\n",
    "# 训练数据(面积)\n",
    "x = np.array([1400, 1600, 1700, 1875, 1100])\n",
    "# 实际值(价格)\n",
    "y = np.array([100000, 120000, 130000, 145000, 85000])\n",
    "\n",
    "# 斜率估计\n",
    "w = np.sum((x - x.mean()) * (y - y.mean())) / np.sum((x - x.mean()) ** 2)\n",
    "\n",
    "# 截距估计\n",
    "b = y.mean() - w * x.mean()"
   ]
  }
 ],
 "metadata": {
  "kernelspec": {
   "display_name": "base",
   "language": "python",
   "name": "python3"
  },
  "language_info": {
   "codemirror_mode": {
    "name": "ipython",
    "version": 3
   },
   "file_extension": ".py",
   "mimetype": "text/x-python",
   "name": "python",
   "nbconvert_exporter": "python",
   "pygments_lexer": "ipython3",
   "version": "3.11.5"
  },
  "orig_nbformat": 4
 },
 "nbformat": 4,
 "nbformat_minor": 2
}
