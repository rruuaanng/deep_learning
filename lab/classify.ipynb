{
 "cells": [
  {
   "cell_type": "code",
   "execution_count": 23,
   "metadata": {},
   "outputs": [
    {
     "name": "stdout",
     "output_type": "stream",
     "text": [
      "错误率为: 0.05263157894736842\n"
     ]
    }
   ],
   "source": [
    "from sklearn.datasets import load_iris\n",
    "from sklearn.naive_bayes import GaussianNB\n",
    " \n",
    "d = load_iris()\n",
    "# 训练集\n",
    "train = d.data\n",
    "label = d.target\n",
    "\n",
    "# 测试集\n",
    "test = d.data[90:,:]\n",
    "tlabel = d.target[90:]\n",
    "\n",
    "# 高斯贝叶斯\n",
    "nb = GaussianNB()\n",
    "nb.fit(train,label)\n",
    "\n",
    "# 预测\n",
    "r = nb.predict(test)\n",
    "\n",
    "# 检验结果\n",
    "yes = tlabel - r\n",
    "p = yes[yes == 1].size / yes[yes == 0].size\n",
    "print(f'错误率为: {p}')"
   ]
  }
 ],
 "metadata": {
  "kernelspec": {
   "display_name": "base",
   "language": "python",
   "name": "python3"
  },
  "language_info": {
   "codemirror_mode": {
    "name": "ipython",
    "version": 3
   },
   "file_extension": ".py",
   "mimetype": "text/x-python",
   "name": "python",
   "nbconvert_exporter": "python",
   "pygments_lexer": "ipython3",
   "version": "3.11.5"
  },
  "orig_nbformat": 4
 },
 "nbformat": 4,
 "nbformat_minor": 2
}
