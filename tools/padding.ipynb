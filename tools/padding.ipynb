{
 "cells": [
  {
   "cell_type": "markdown",
   "metadata": {},
   "source": [
    "padding的功能是将图像的边缘填充n个像素  \n",
    "目的是将图像扩大到n，保留使卷积后的结果特征能尽可能保留  \n",
    "例如一个5*5的图像，padding为2，则padding后的图像大小为7*7  "
   ]
  },
  {
   "cell_type": "markdown",
   "metadata": {},
   "source": [
    "$\n",
    "img_{padding}=\\frac{n+2p-f}{s}*\\frac{n+2p-f}{s}\n",
    "n为图像大小,n*n \\\\\n",
    "f为卷积核大小,f*f \\\\\n",
    "p为padding大小 \\\\\n",
    "s为卷积步长 \\\\\n",
    "$"
   ]
  }
 ],
 "metadata": {
  "language_info": {
   "name": "python"
  },
  "orig_nbformat": 4
 },
 "nbformat": 4,
 "nbformat_minor": 2
}
